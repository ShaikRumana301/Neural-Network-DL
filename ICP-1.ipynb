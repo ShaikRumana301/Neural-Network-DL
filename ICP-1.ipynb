{
 "cells": [
  {
   "cell_type": "code",
   "execution_count": 15,
   "metadata": {},
   "outputs": [
    {
     "name": "stdout",
     "output_type": "stream",
     "text": [
      "enter data : python\n",
      "yp\n"
     ]
    }
   ],
   "source": [
    "import random\n",
    "\n",
    "string = input(\"please enter text : \") #takes the string as input\n",
    "\n",
    "split =  random.randrange(2, len(string)-2) #this function returns the random value from the given range \n",
    "\n",
    "string = string.replace(string[split:],\"\") #replace the characters of the string\n",
    "string = string[::-1] #reversing resultant string\n",
    "print(string) #prints the resultant string"
   ]
  },
  {
   "cell_type": "code",
   "execution_count": 1,
   "metadata": {},
   "outputs": [
    {
     "name": "stdout",
     "output_type": "stream",
     "text": [
      "please enter number 1 :134\n",
      "please enter number 2 :247\n",
      "\n",
      "Addition :  381\n",
      "Substraction :  -113\n",
      "Multiplication :  33098\n",
      "Divison :  0.5425101214574899\n"
     ]
    }
   ],
   "source": [
    "digit1 = int(input(\"please enter number 1 :\")) #takes integer value as input\n",
    "digit2 = int(input(\"please enter number 2 :\"))\n",
    "\n",
    "print(\"\\nAddition : \",(digit1+digit2)) #performs addition operation and prints resultant integer value\n",
    "\n",
    "print(\"Substraction : \",(digit1-digit2)) #performs subtraction operation and prints resultant integer value\n",
    "\n",
    "print(\"Multiplication : \",(digit1*digit2)) #performs multiplication operation and prints resultant integer value\n",
    "\n",
    "print(\"Divison : \",(digit1/digit2)) #performs division operation and prints resultant integer value"
   ]
  },
  {
   "cell_type": "code",
   "execution_count": 2,
   "metadata": {},
   "outputs": [
    {
     "name": "stdout",
     "output_type": "stream",
     "text": [
      "please enter string :I love playing with python\n",
      "I love playing with pythons\n"
     ]
    }
   ],
   "source": [
    "inputValue = input(\"please enter string :\") #takes string as input\n",
    "\n",
    "inputValue = inputValue.replace(\"python\",\"pythons\") #replaces the string \n",
    "\n",
    "print(inputValue) #prints the output string"
   ]
  },
  {
   "cell_type": "code",
   "execution_count": 3,
   "metadata": {},
   "outputs": [
    {
     "name": "stdout",
     "output_type": "stream",
     "text": [
      "Enter Students score : 93\n",
      "Grade : A\n"
     ]
    }
   ],
   "source": [
    "percent = int(input(\"Enter Students score : \")) #takes an input percentage\n",
    "\n",
    "if(percent<=100 and percent>=90): #if condition to check percentage is greater than or equal to 90 and less than or equal to 100\n",
    "    print(\"Grade : A\")\n",
    "elif(percent<=89 and percent>=80): #else if the percentage is greater than or equal to 80 and less than or equal to 89 \n",
    "     print(\"Grade : B\")\n",
    "elif(percent<=79 and percent>=70): #else if the percentage is greater than or equal to 70 and less than or equal to 79\n",
    "     print(\"Grade : C\") \n",
    "elif(percent<=69 and percent>=60): #else if the percentage is greater than or equal to 60 and less than or equal to 69\n",
    "     print(\"Grade : D\")\n",
    "elif(percent<=59 and percent>=0): #else if the percentage is greater than or equal to 0 and less than or equal to 59\n",
    "     print(\"Grade : F\")"
   ]
  },
  {
   "cell_type": "code",
   "execution_count": null,
   "metadata": {},
   "outputs": [],
   "source": []
  }
 ],
 "metadata": {
  "kernelspec": {
   "display_name": "Python 3",
   "language": "python",
   "name": "python3"
  },
  "language_info": {
   "codemirror_mode": {
    "name": "ipython",
    "version": 3
   },
   "file_extension": ".py",
   "mimetype": "text/x-python",
   "name": "python",
   "nbconvert_exporter": "python",
   "pygments_lexer": "ipython3",
   "version": "3.8.5"
  }
 },
 "nbformat": 4,
 "nbformat_minor": 4
}
